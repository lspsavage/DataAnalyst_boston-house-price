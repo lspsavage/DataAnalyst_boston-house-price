{
 "cells": [
  {
   "cell_type": "markdown",
   "metadata": {},
   "source": [
    "# Analisa Data Harga Rumah di Boston  \n",
    "Setiap data dalam basis data ini menggambarkan sebuah daerah pinggiran atau kota di Boston. Data ini diambil dari wilayah Boston Standard Metropolitan Statistical Area (SMSA) pada tahun 1970.  \n",
    "**Sumber data :** (https://www.kaggle.com/datasets/vikrishnan/boston-house-prices/data)"
   ]
  },
  {
   "cell_type": "markdown",
   "metadata": {},
   "source": [
    "| Nama Kolom  | Deskripsi                                                         |\n",
    "| ----------- | ---------------------------------------------------------------------------------------- |\n",
    "| **CRIM**    | Tingkat kejahatan per kapita di setiap kota                                              |\n",
    "| **ZN**      | Proporsi lahan perumahan yang diperuntukkan untuk kavling lebih dari 25.000 kaki persegi |\n",
    "| **INDUS**   | Proporsi luas area bisnis non-ritel di setiap kota                                       |\n",
    "| **CHAS**    | Variabel dummy Sungai Charles (1 jika wilayah berbatasan dengan sungai, 0 jika tidak)    |\n",
    "| **NOX**     | Konsentrasi nitrogen oksida (dalam satuan per 10 juta)                                   |\n",
    "| **RM**      | Rata-rata jumlah kamar per rumah tinggal                                                 |\n",
    "| **AGE**     | Proporsi rumah yang dihuni pemilik dan dibangun sebelum tahun 1940                       |\n",
    "| **DIS**     | Jarak tertimbang ke lima pusat pekerjaan di Boston                                       |\n",
    "| **RAD**     | Indeks aksesibilitas ke jalan raya radial                                                |\n",
    "| **TAX**     | Tarif pajak properti penuh per \\$10.000 nilai properti                                   |\n",
    "| **PTRATIO** | Rasio murid-guru di tiap kota                                                            |\n",
    "| **B**       | 1000 × (Bk − 0,63)², di mana Bk adalah proporsi penduduk kulit hitam di kota tersebut    |\n",
    "| **LSTAT**   | Persentase penduduk dengan status sosial ekonomi rendah                                  |\n"
   ]
  },
  {
   "cell_type": "markdown",
   "metadata": {},
   "source": [
    "### Import Data"
   ]
  },
  {
   "cell_type": "code",
   "execution_count": null,
   "metadata": {},
   "outputs": [],
   "source": [
    "import numpy as np\n",
    "import pandas as pd\n",
    "import os\n",
    "import matplotlib.pyplot as plt\n",
    "import seaborn as sns\n",
    "from sklearn import metrics\n",
    "from sklearn.model_selection import train_test_split\n",
    "from sklearn.linear_model import LinearRegression\n",
    "from sklearn.metrics import mean_squared_error, mean_absolute_error, r2_score\n",
    "from sklearn.preprocessing import StandardScaler, Normalizer"
   ]
  },
  {
   "cell_type": "code",
   "execution_count": null,
   "metadata": {},
   "outputs": [],
   "source": [
    "data =pd.read_csv('data/housing.csv')\n",
    "data.head()"
   ]
  },
  {
   "cell_type": "markdown",
   "metadata": {},
   "source": [
    "### Preprocessing"
   ]
  },
  {
   "cell_type": "code",
   "execution_count": null,
   "metadata": {},
   "outputs": [],
   "source": [
    "data =pd.read_csv('data/housing.csv', sep='\\s+', header=None)\n",
    "data.columns = ['CRIM', 'ZN', 'INDUS', 'CHAS', 'NOX', 'RM', 'AGE', 'DIS', 'RAD', 'TAX', 'PTRATIO', 'B', 'LSTAT', 'PRICE']"
   ]
  },
  {
   "cell_type": "code",
   "execution_count": null,
   "metadata": {},
   "outputs": [],
   "source": [
    "data.head()"
   ]
  },
  {
   "cell_type": "code",
   "execution_count": null,
   "metadata": {},
   "outputs": [],
   "source": [
    "#cek ukuran data\n",
    "data.shape"
   ]
  },
  {
   "cell_type": "code",
   "execution_count": null,
   "metadata": {},
   "outputs": [],
   "source": [
    "#cek tipe data yang digunakan\n",
    "data.dtypes"
   ]
  },
  {
   "cell_type": "code",
   "execution_count": null,
   "metadata": {},
   "outputs": [],
   "source": [
    "#identifikasi isi dataset yang uniq\n",
    "data.nunique()"
   ]
  },
  {
   "cell_type": "code",
   "execution_count": null,
   "metadata": {},
   "outputs": [],
   "source": [
    "#cek missing value\n",
    "data.isnull().sum()"
   ]
  },
  {
   "cell_type": "code",
   "execution_count": null,
   "metadata": {},
   "outputs": [],
   "source": [
    "#cek baris yang memiliki missing value\n",
    "data[data.isnull().any(axis=1)]"
   ]
  },
  {
   "cell_type": "code",
   "execution_count": null,
   "metadata": {},
   "outputs": [],
   "source": [
    "#melihat statistik deskriptif dari data\n",
    "data.describe()"
   ]
  },
  {
   "cell_type": "code",
   "execution_count": null,
   "metadata": {},
   "outputs": [],
   "source": [
    "data.to_excel('data/housing_cleaned.xlsx', index=False)"
   ]
  },
  {
   "cell_type": "markdown",
   "metadata": {},
   "source": [
    "### Research Question\n",
    "1. Faktor apa saja yang paling berpengaruh terhadap harga rumah di Boston?\n",
    "2. Apakah tingkat kejahatan (CRIM) berpengaruh negatif terhadap harga rumah?\n",
    "3. Apakah rasio murid-guru (PTRATIO) berkorelasi dengan harga rumah?\n",
    "4. Apakah kedekatan dengan Sungai Charles (CHAS) berdampak signifikan terhadap harga rumah?\n",
    "5. Apakah rumah di area dengan pajak tinggi (TAX) memiliki harga jual lebih rendah?\n",
    "6. Bagaimana pengaruh status sosial ekonomi (LSTAT) terhadap harga rumah?"
   ]
  },
  {
   "cell_type": "markdown",
   "metadata": {},
   "source": [
    "#### 1. Faktor yang paling berpengaruh terhadap harga rumah"
   ]
  },
  {
   "cell_type": "code",
   "execution_count": null,
   "metadata": {},
   "outputs": [],
   "source": [
    "corr = data.corr()\n",
    "plt.figure(figsize=(12, 10))\n",
    "sns.heatmap(corr, annot=True, fmt='.2f', cmap='coolwarm')"
   ]
  },
  {
   "cell_type": "markdown",
   "metadata": {},
   "source": [
    "**hasil** :\n",
    "Yang paling berpengaruh terhadap harga rumah adalah **RM, ZN, B, DIS**  \n",
    "Jadi harga rumah di Boston paling dipengaruhi oleh:\n",
    "- Rata - rata jumlah kamar per rumah tinggal\n",
    "- Proposi lahan perumahan yang diperuntukkan untuk kavling lebih dari 25.000 kaki persegi \n",
    "- Perbedaan rasial dalam kavling\n",
    "- Jarak tertimbang ke lima pusat pekerjaan di Boston.  \n",
    "  \n",
    "Harga rumah di Boston paling dipengaruhi oleh rata-rata jumlah kamar, karena variabel ini memiliki korelasi tertinggi terhadap harga. Semakin banyak jumlah kamar, semakin besar pula daya tarik rumah tersebut bagi calon pembeli, karena mereka cenderung mencari ruang yang lebih luas dan nyaman untuk ditinggali bersama keluarga atau untuk investasi jangka panjang."
   ]
  },
  {
   "cell_type": "markdown",
   "metadata": {},
   "source": [
    "#### 2. Tingkat kejahatan berpengaruh negatif terhadap harga rumah"
   ]
  },
  {
   "cell_type": "code",
   "execution_count": null,
   "metadata": {},
   "outputs": [],
   "source": [
    "sns.scatterplot(x='CRIM', y='PRICE', data=data)\n",
    "plt.title('Hubungan antara Crime Rate dan Harga Rumah')\n",
    "plt.xlabel('Tingkat Kejahatan (CRIM)')\n",
    "plt.ylabel('Harga Rumah (PRICE)')\n",
    "plt.show()"
   ]
  },
  {
   "cell_type": "markdown",
   "metadata": {},
   "source": [
    "**hasil :**  \n",
    "Dari grafik scatterplot terlihat pola yang cukup jelas: semakin tinggi tingkat kejahatan di suatu area, semakin rendah harga rumahnya. Misalnya, pada area dengan tingkat kejahatan antara 0 hingga 20, harga rumah cenderung tinggi dan stabil, ini bisa disebut sebagai zona \"aman\" yang paling diminati. Sebaliknya, pada area dengan tingkat kejahatan di atas 60, harga rumah anjlok tajam, menunjukkan bahwa keamanan menjadi faktor krusial dalam menentukan nilai properti."
   ]
  },
  {
   "cell_type": "markdown",
   "metadata": {},
   "source": [
    "#### 3. Rasio murid-guru berkorelasi dengan harga rumah?"
   ]
  },
  {
   "cell_type": "code",
   "execution_count": null,
   "metadata": {},
   "outputs": [],
   "source": [
    "corr = data[['PTRATIO', 'PRICE']].corr()\n",
    "plt.figure(figsize=(8, 6))\n",
    "sns.heatmap(data[['PTRATIO', 'PRICE']].corr(), annot=True, cmap='coolwarm')\n",
    "plt.title(\"Korelasi antara PTRATIO dan PRICE\")\n",
    "plt.show()"
   ]
  },
  {
   "cell_type": "markdown",
   "metadata": {},
   "source": [
    "**hasil :**  \n",
    "Korelasi sebesar -0.51 antara rasio murid-guru (PTRATIO) dan harga rumah (PRICE) menunjukkan bahwa ada hubungan negatif sedang antara kedua variabel tersebut. Artinya:  \n",
    "- Semakin tinggi rasio murid-guru (lebih banyak murid per guru, kualitas pendidikan cenderung menurun)\n",
    "- Semakin rendah harga rumah.  \n",
    "  \n",
    "Masyarakat cenderung menilai kualitas pendidikan sebagai faktor penting dalam memilih tempat tinggal. Jika suatu daerah memiliki rasio murid-guru yang tinggi, itu bisa menjadi indikator bahwa sekolah di sana terlalu padat atau kurang tenaga pengajar, yang membuat wilayah tersebut kurang diminati, sehingga menurunkan nilai properti."
   ]
  },
  {
   "cell_type": "markdown",
   "metadata": {},
   "source": [
    "#### 4. Kedekatan dengan Sungai berdampak signifikan terhadap harga rumah"
   ]
  },
  {
   "cell_type": "code",
   "execution_count": null,
   "metadata": {},
   "outputs": [],
   "source": [
    "data.groupby('CHAS')['PRICE'].mean()"
   ]
  },
  {
   "cell_type": "code",
   "execution_count": null,
   "metadata": {},
   "outputs": [],
   "source": [
    "sns.boxplot(x='CHAS', y='PRICE', data=data)\n",
    "plt.xticks([0, 1], ['Tidak Dekat Sungai', 'Dekat Sungai'])\n",
    "plt.title(\"Perbandingan Harga Rumah Berdasarkan Kedekatan dengan Sungai\")\n",
    "plt.show()"
   ]
  },
  {
   "cell_type": "markdown",
   "metadata": {},
   "source": [
    "**hasil :**  \n",
    "Secara umum rata - rata harga rumah yang berada di dekat sungai cenderung lebih mahal, Kemudian berdasarkan bloxplot:  \n",
    "- Median harga rumah untuk CHAS = 1 lebih tinggi dibanding CHAS = 0 → menunjukkan bahwa rumah yang dekat dengan sungai cenderung memiliki harga lebih mahal.\n",
    "- Boxplot CHAS = 1 memiliki kotak yang lebih lebar → artinya harga rumah yang dekat sungai memiliki variasi yang lebih besar, atau rentang harga yang lebih lebar.\n",
    "- Terdapat outlier pada CHAS = 0 yang berada di atas nilai maksimum → menandakan bahwa meskipun rumah yang jauh dari sungai cenderung lebih murah, ada beberapa rumah yang berharga sangat tinggi, namun jarang terjadi.  \n",
    "  \n",
    "Rumah yang berada dekat dengan sungai (CHAS = 1) cenderung memiliki harga lebih tinggi dan lebih bervariasi dibanding rumah yang jauh dari sungai. Kehadiran outlier pada CHAS = 0 menunjukkan ada pengecualian di mana beberapa rumah jauh dari sungai bisa memiliki harga tinggi, meskipun jarang terjadi."
   ]
  },
  {
   "cell_type": "markdown",
   "metadata": {},
   "source": [
    "#### 5. Rumah di area dengan pajak tinggi memiliki harga jual lebih rendah"
   ]
  },
  {
   "cell_type": "code",
   "execution_count": null,
   "metadata": {},
   "outputs": [],
   "source": [
    "correlation = data['TAX'].corr(data['PRICE'])\n",
    "print(f'Korelasi antara TAX dan PRICE: {correlation}')"
   ]
  },
  {
   "cell_type": "code",
   "execution_count": null,
   "metadata": {},
   "outputs": [],
   "source": [
    "data['TAX_Group'] = pd.qcut(data['TAX'], q=3, labels=['Rendah', 'Sedang', 'Tinggi'])\n",
    "print(data.groupby('TAX_Group')['PRICE'].mean())"
   ]
  },
  {
   "cell_type": "code",
   "execution_count": null,
   "metadata": {},
   "outputs": [],
   "source": [
    "import seaborn as sns\n",
    "import matplotlib.pyplot as plt\n",
    "\n",
    "sns.boxplot(x='TAX_Group', y='PRICE', data=data)\n",
    "plt.title(\"Perbandingan Harga Rumah Berdasarkan Kelompok Pajak\")\n",
    "plt.show()"
   ]
  },
  {
   "cell_type": "markdown",
   "metadata": {},
   "source": [
    "**hasil :**  \n",
    "Dari hasil korelasi antara tinggi pajak terhadap harga rumah adalah -0.47 yang berarti semakin tinggi pajak maka harga rumah semakin turun, kemudian dengan membagi tinggi pajak menjadi tiga bagian yaitu rendah, sedang, dan tinggi mendapatkan hasil:  \n",
    "- Median harga rumah pada kelompok pajak tinggi lebih rendah dibanding kelompok pajak sedang dan rendah. Hal ini menunjukkan bahwa beban pajak yang tinggi kemungkinan besar menurunkan daya tarik sebuah properti, sehingga menekan harga jualnya.\n",
    "- Boxplot kelompok pajak tinggi memiliki kotak yang sempit, yang berarti sebaran harga rumah di area dengan pajak tinggi lebih homogen dan cenderung terkonsentrasi pada kisaran harga yang lebih rendah.\n",
    "- Terdapat banyak outlier pada kelompok pajak sedang, sementara kelompok pajak tinggi hanya memiliki sedikit outlier. Ini mengindikasikan bahwa di wilayah pajak sedang, variasi harga rumah jauh lebih besar dan ada rumah-rumah yang bernilai sangat tinggi, sedangkan di wilayah pajak tinggi, harga rumah cenderung stabil namun tetap rendah.  \n",
    "  \n",
    "Hasil analisis mendukung research question bahwa rumah di area dengan pajak tinggi memiliki harga jual yang lebih rendah. Hal ini ditunjukkan oleh korelasi negatif sebesar -0.47 antara pajak dan harga rumah, serta median harga yang lebih rendah pada kelompok pajak tinggi. Sebaran harga yang sempit di area pajak tinggi juga menunjukkan bahwa harga rumah cenderung stabil namun tetap rendah di wilayah tersebut."
   ]
  },
  {
   "cell_type": "markdown",
   "metadata": {},
   "source": [
    "### Linear Regression"
   ]
  },
  {
   "cell_type": "code",
   "execution_count": null,
   "metadata": {},
   "outputs": [],
   "source": [
    "data =pd.read_csv('data/housing.csv', sep='\\s+', header=None)\n",
    "data.columns = ['CRIM', 'ZN', 'INDUS', 'CHAS', 'NOX', 'RM', 'AGE', 'DIS', 'RAD', 'TAX', 'PTRATIO', 'B', 'LSTAT', 'PRICE']"
   ]
  },
  {
   "cell_type": "code",
   "execution_count": null,
   "metadata": {},
   "outputs": [],
   "source": [
    "X = data.drop('PRICE', axis=1)\n",
    "y = data['PRICE']"
   ]
  },
  {
   "cell_type": "code",
   "execution_count": null,
   "metadata": {},
   "outputs": [],
   "source": [
    "X_train, X_test, y_train, y_test = train_test_split(X, y, test_size=0.2, random_state=42)\n",
    "model = LinearRegression()\n",
    "model.fit(X_train, y_train)"
   ]
  },
  {
   "cell_type": "code",
   "execution_count": null,
   "metadata": {},
   "outputs": [],
   "source": [
    "model.coef_\n",
    "model.intercept_"
   ]
  },
  {
   "cell_type": "code",
   "execution_count": null,
   "metadata": {},
   "outputs": [],
   "source": [
    "y_pred = model.predict(X_test)\n"
   ]
  },
  {
   "cell_type": "code",
   "execution_count": null,
   "metadata": {},
   "outputs": [],
   "source": [
    "mae = mean_absolute_error(y_test, y_pred)\n",
    "print(f'Mean Absolute Error: {mae}')\n",
    "mse = mean_squared_error(y_test, y_pred)\n",
    "print(f'Mean Squared Error: {mse}')\n",
    "r2 = r2_score(y_test, y_pred)\n",
    "print(f'R^2 Score: {r2}')"
   ]
  },
  {
   "cell_type": "code",
   "execution_count": null,
   "metadata": {},
   "outputs": [],
   "source": [
    "result_df = pd.DataFrame({'Actual': y_test, 'Predicted': y_pred})\n",
    "\n",
    "plt.figure(figsize=(8, 5))\n",
    "sns.scatterplot(x='Actual', y='Predicted', data=result_df)\n",
    "plt.plot([y_test.min(), y_test.max()], [y_test.min(), y_test.max()], color='red', linestyle='--', label='Ideal (y = x)')\n",
    "\n",
    "plt.title('Actual vs Predicted Harga Rumah (Test Set)')\n",
    "plt.xlabel('Harga Rumah Aktual')\n",
    "plt.ylabel('Harga Rumah Prediksi')\n",
    "plt.legend()\n",
    "plt.grid(True)\n",
    "plt.tight_layout()\n",
    "plt.show()"
   ]
  },
  {
   "cell_type": "markdown",
   "metadata": {},
   "source": [
    "#### Normalizer Scalling Before Remove Outliers"
   ]
  },
  {
   "cell_type": "code",
   "execution_count": null,
   "metadata": {},
   "outputs": [],
   "source": [
    "X = data.drop('PRICE', axis=1)\n",
    "y = data['PRICE']"
   ]
  },
  {
   "cell_type": "code",
   "execution_count": null,
   "metadata": {},
   "outputs": [],
   "source": [
    "X_train, X_test, y_train, y_test = train_test_split(X, y, test_size=0.2, random_state=42)"
   ]
  },
  {
   "cell_type": "code",
   "execution_count": null,
   "metadata": {},
   "outputs": [],
   "source": [
    "normalizer = Normalizer()\n",
    "X_train = normalizer.fit_transform(X_train)\n",
    "X_test = normalizer.transform(X_test)"
   ]
  },
  {
   "cell_type": "code",
   "execution_count": null,
   "metadata": {},
   "outputs": [],
   "source": [
    "model = LinearRegression()"
   ]
  },
  {
   "cell_type": "code",
   "execution_count": null,
   "metadata": {},
   "outputs": [],
   "source": [
    "model.fit(X_train, y_train)"
   ]
  },
  {
   "cell_type": "code",
   "execution_count": null,
   "metadata": {},
   "outputs": [],
   "source": [
    "y_pred = model.predict(X_test)"
   ]
  },
  {
   "cell_type": "code",
   "execution_count": null,
   "metadata": {},
   "outputs": [],
   "source": [
    "mae = mean_absolute_error(y_test, y_pred)\n",
    "print(f'Mean Absolute Error: {mae}')\n",
    "mse = mean_squared_error(y_test, y_pred)\n",
    "print(f'Mean Squared Error: {mse}')\n",
    "r2 = r2_score(y_test, y_pred)\n",
    "print(f'R^2 Score: {r2}')"
   ]
  },
  {
   "cell_type": "markdown",
   "metadata": {},
   "source": [
    "#### Remove Outliers"
   ]
  },
  {
   "cell_type": "code",
   "execution_count": null,
   "metadata": {},
   "outputs": [],
   "source": [
    "# Check for outliers using boxplots:\n",
    "numeric_cols = data.select_dtypes(exclude='object').columns\n",
    "n_cols = 4\n",
    "n_rows = (len(numeric_cols) + n_cols - 1) // n_cols\n",
    "plt.figure(figsize=(5 * n_cols, 4 * n_rows))\n",
    "for i, col in enumerate(numeric_cols):\n",
    "    plt.subplot(n_rows, n_cols, i + 1)\n",
    "    sns.boxplot(y=data[col])\n",
    "    plt.title(col)\n",
    "plt.tight_layout()\n",
    "plt.show()"
   ]
  },
  {
   "cell_type": "code",
   "execution_count": null,
   "metadata": {},
   "outputs": [],
   "source": [
    "# Use IQR method to identify outliers for numerical features:\n",
    "for col in data.select_dtypes(include=np.number).columns:\n",
    "    Q1 = data[col].quantile(0.25)\n",
    "    Q3 = data[col].quantile(0.75)\n",
    "    IQR = Q3 - Q1\n",
    "    lower_bound = Q1 - 1.5 * IQR\n",
    "    upper_bound = Q3 + 1.5 * IQR\n",
    "    outliers = data[(data[col] < lower_bound) | (data[col] > upper_bound)]\n",
    "    print(f\"Outliers in {col}: {outliers.shape[0]}\")"
   ]
  },
  {
   "cell_type": "code",
   "execution_count": null,
   "metadata": {},
   "outputs": [],
   "source": [
    "data.shape"
   ]
  },
  {
   "cell_type": "code",
   "execution_count": null,
   "metadata": {},
   "outputs": [],
   "source": [
    "numeric_cols = data.select_dtypes(include='number').columns\n",
    "for col in numeric_cols:\n",
    "    Q1 = data[col].quantile(0.25)\n",
    "    Q3 = data[col].quantile(0.75)\n",
    "    IQR = Q3 - Q1\n",
    "    lower = Q1 - 1.5 * IQR\n",
    "    upper = Q3 + 1.5 * IQR\n",
    "    data[col] = data[col].clip(lower=lower, upper=upper)"
   ]
  },
  {
   "cell_type": "code",
   "execution_count": null,
   "metadata": {},
   "outputs": [],
   "source": [
    "plt.figure(figsize=(15, 10))\n",
    "for i, col in enumerate(data.columns):\n",
    "    plt.subplot(4, 4, i + 1)\n",
    "    sns.boxplot(y=data[col])\n",
    "    plt.title(col)\n",
    "plt.tight_layout()\n",
    "plt.show()"
   ]
  },
  {
   "cell_type": "code",
   "execution_count": null,
   "metadata": {},
   "outputs": [],
   "source": [
    "# Use IQR method to identify outliers for numerical features:\n",
    "for col in data.select_dtypes(include=np.number).columns:\n",
    "    Q1 = data[col].quantile(0.25)\n",
    "    Q3 = data[col].quantile(0.75)\n",
    "    IQR = Q3 - Q1\n",
    "    lower_bound = Q1 - 1.5 * IQR\n",
    "    upper_bound = Q3 + 1.5 * IQR\n",
    "    outliers = data[(data[col] < lower_bound) | (data[col] > upper_bound)]\n",
    "    print(f\"Outliers in {col}: {outliers.shape[0]}\")"
   ]
  },
  {
   "cell_type": "code",
   "execution_count": null,
   "metadata": {},
   "outputs": [],
   "source": [
    "data.shape"
   ]
  },
  {
   "cell_type": "markdown",
   "metadata": {},
   "source": [
    "#### Normalizer Scaling After Remove Ouliers"
   ]
  },
  {
   "cell_type": "code",
   "execution_count": null,
   "metadata": {},
   "outputs": [],
   "source": [
    "X = data.drop('PRICE', axis=1)\n",
    "y = data['PRICE']"
   ]
  },
  {
   "cell_type": "code",
   "execution_count": null,
   "metadata": {},
   "outputs": [],
   "source": [
    "X_train, X_test, y_train, y_test = train_test_split(X, y, test_size=0.2, random_state=42)"
   ]
  },
  {
   "cell_type": "code",
   "execution_count": null,
   "metadata": {},
   "outputs": [],
   "source": [
    "normalizer = Normalizer()\n",
    "X_train = normalizer.fit_transform(X_train)\n",
    "X_test = normalizer.transform(X_test)"
   ]
  },
  {
   "cell_type": "code",
   "execution_count": null,
   "metadata": {},
   "outputs": [],
   "source": [
    "model = LinearRegression()\n",
    "model.fit(X_train, y_train)"
   ]
  },
  {
   "cell_type": "code",
   "execution_count": null,
   "metadata": {},
   "outputs": [],
   "source": [
    "y_pred = model.predict(X_test)"
   ]
  },
  {
   "cell_type": "code",
   "execution_count": null,
   "metadata": {},
   "outputs": [],
   "source": [
    "mae = mean_absolute_error(y_test, y_pred)\n",
    "print(f'Mean Absolute Error: {mae}')\n",
    "mse = mean_squared_error(y_test, y_pred)\n",
    "print(f'Mean Squared Error: {mse}')\n",
    "r2 = r2_score(y_test, y_pred)\n",
    "print(f'R^2 Score: {r2}')"
   ]
  },
  {
   "cell_type": "code",
   "execution_count": null,
   "metadata": {},
   "outputs": [],
   "source": [
    "result_df = pd.DataFrame({'Actual': y_test, 'Predicted': y_pred})\n",
    "\n",
    "plt.figure(figsize=(8, 5))\n",
    "sns.scatterplot(x='Actual', y='Predicted', data=result_df)\n",
    "plt.plot([y_test.min(), y_test.max()], [y_test.min(), y_test.max()], color='red', linestyle='--', label='Ideal (y = x)')\n",
    "\n",
    "plt.title('Actual vs Predicted Harga Rumah (Test Set)')\n",
    "plt.xlabel('Harga Rumah Aktual')\n",
    "plt.ylabel('Harga Rumah Prediksi')\n",
    "plt.legend()\n",
    "plt.grid(True)\n",
    "plt.tight_layout()\n",
    "plt.show()"
   ]
  },
  {
   "cell_type": "code",
   "execution_count": null,
   "metadata": {},
   "outputs": [],
   "source": [
    "for i in range(5):\n",
    "    print(f\"predicated: {y_pred[i]:.2f} | Actual: {y[i]}\")"
   ]
  },
  {
   "cell_type": "markdown",
   "metadata": {},
   "source": [
    "#### Conclusion Linear Regression"
   ]
  },
  {
   "cell_type": "markdown",
   "metadata": {},
   "source": [
    "Berdasarkan hasil dari normalizer scaling sebelum penghapusan outlier, model regresi linear menghasilkan:\n",
    "\n",
    "* Mean Absolute Error (MAE): 3.06\n",
    "* Mean Squared Error (MSE): 23.11\n",
    "* R² Score: 0.68\n",
    "\n",
    "Setelah dilakukan penghapusan outlier, performa model mengalami peningkatan signifikan dengan hasil:\n",
    "\n",
    "* MAE turun menjadi: 2.39\n",
    "* MSE turun menjadi: 12.44\n",
    "* R² meningkat menjadi: 0.75\n",
    "\n",
    "**Jadi**, penghapusan outlier terbukti mampu meningkatkan akurasi dan kestabilan model, di mana error menjadi lebih kecil dan model mampu menjelaskan variasi data lebih baik. Ini menunjukkan bahwa outlier memiliki dampak negatif terhadap performa model prediksi harga rumah, sehingga penting untuk melakukan pembersihan data sebelum membangun model.\n",
    "\n",
    "---\n",
    "\n",
    "Untuk grafik regresi linear setelah menggunakan normalizer scaling, terlihat bahwa **sebelum penghapusan outlier**, titik-titik data pada plot cenderung tersebar jauh dari garis regresi, menandakan bahwa prediksi model tidak konsisten.\n",
    "\n",
    "Namun, **setelah dilakukan penghapusan outlier**, distribusi titik menjadi lebih rapat di sekitar garis regresi, menunjukkan bahwa model semakin akurat dan stabil dalam memprediksi harga rumah. Hal ini memperkuat temuan sebelumnya bahwa outlier dapat mengganggu pola data dan menurunkan performa model, baik secara visual maupun secara metrik evaluasi.\n",
    "\n"
   ]
  }
 ],
 "metadata": {
  "kernelspec": {
   "display_name": "my_env",
   "language": "python",
   "name": "python3"
  },
  "language_info": {
   "codemirror_mode": {
    "name": "ipython",
    "version": 3
   },
   "file_extension": ".py",
   "mimetype": "text/x-python",
   "name": "python",
   "nbconvert_exporter": "python",
   "pygments_lexer": "ipython3",
   "version": "3.11.11"
  }
 },
 "nbformat": 4,
 "nbformat_minor": 2
}
